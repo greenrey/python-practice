{
 "cells": [
  {
   "cell_type": "markdown",
   "id": "55217354-7164-41fd-a3bb-fc1d253a39ad",
   "metadata": {},
   "source": [
    "## 2. Add Two Numbers [🔗](https://leetcode.com/problems/add-two-numbers/description/)\n",
    "`Medium`\n",
    "\n",
    "You are given two **non-empty** linked lists representing two non-negative integers. The digits are stored in **reverse order**, and each of their nodes contains a single digit. Add the two numbers and return the sum as a linked list.\n",
    "\n",
    "You may assume the two numbers do not contain any leading zero, except the number 0 itself."
   ]
  },
  {
   "cell_type": "code",
   "execution_count": 2,
   "id": "abf67c3d-0d78-42ec-ae56-bf75255cdc07",
   "metadata": {},
   "outputs": [],
   "source": [
    "# Definition for singly-linked list.\n",
    "# class ListNode(object):\n",
    "#     def __init__(self, val=0, next=None):\n",
    "#         self.val = val\n",
    "#         self.next = next\n",
    "class Solution(object):\n",
    "    def addTwoNumbers(self, l1, l2):\n",
    "        cur1 = l1 # current node of l1\n",
    "        cur2 = l2 # current node of l2\n",
    "        output = ListNode(0) # output liked list\n",
    "        op = output # current node of output\n",
    "        over = 0 # amount to add on next node if the sum of the values of current node is double digits\n",
    "        while cur1 != None or cur2 != None: # while it hasn't reached the end yet\n",
    "            curv1 = cur1.val if cur1 else 0 # current nodes' value\n",
    "            curv2 = cur2.val if cur2 else 0\n",
    "            nv = (curv1 + curv2 + over) % 10 # value for current node of output list \n",
    "            over = (curv1 + curv2 + over) // 10 # amount to add on next node\n",
    "            op.val = nv\n",
    "            cur1 = cur1.next if cur1 else None # move to the next node\n",
    "            cur2 = cur2.next if cur2 else None\n",
    "            if cur1 == None and cur2 == None and over == 0: # if no more to go\n",
    "                break\n",
    "            else:\n",
    "                op.next = ListNode(over) \n",
    "                op = op.next\n",
    "        return output\n",
    "        "
   ]
  }
 ],
 "metadata": {
  "kernelspec": {
   "display_name": "Python [conda env:base] *",
   "language": "python",
   "name": "conda-base-py"
  },
  "language_info": {
   "codemirror_mode": {
    "name": "ipython",
    "version": 3
   },
   "file_extension": ".py",
   "mimetype": "text/x-python",
   "name": "python",
   "nbconvert_exporter": "python",
   "pygments_lexer": "ipython3",
   "version": "3.12.7"
  }
 },
 "nbformat": 4,
 "nbformat_minor": 5
}
