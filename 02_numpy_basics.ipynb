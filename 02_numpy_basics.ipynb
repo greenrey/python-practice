{
 "cells": [
  {
   "cell_type": "markdown",
   "id": "7a48b3aa-7c28-45b4-99c9-e3b452ec36ff",
   "metadata": {},
   "source": [
    "## NumPy quickstart [🔗](https://numpy.org/doc/stable/user/quickstart.html)\n",
    "\n",
    "This code is written for a quick recap on major functions of NumPy using **MNIST** dataset of Scikit-learn. Based on 'NumPy quickstart' document, added and modified code for learning and experimenting."
   ]
  },
  {
   "cell_type": "code",
   "execution_count": 22,
   "id": "9c62b490-a001-4b9b-a66c-65aa40c46ff7",
   "metadata": {},
   "outputs": [],
   "source": [
    "import numpy as np\n",
    "import seaborn as sns\n",
    "from sklearn.datasets import load_digits\n",
    "\n",
    "images = load_digits().images\n",
    "target = load_digits().target"
   ]
  },
  {
   "cell_type": "markdown",
   "id": "ba28dbcc-ab64-4003-81c0-8309e43b3793",
   "metadata": {},
   "source": [
    "### The basics"
   ]
  },
  {
   "cell_type": "code",
   "execution_count": 25,
   "id": "8bf45d74-5520-4178-815d-92b0d70394fe",
   "metadata": {},
   "outputs": [
    {
     "data": {
      "text/plain": [
       "3"
      ]
     },
     "execution_count": 25,
     "metadata": {},
     "output_type": "execute_result"
    }
   ],
   "source": [
    "# .ndim: the number of axes(dimensions) of the array\n",
    "images.ndim"
   ]
  },
  {
   "cell_type": "code",
   "execution_count": 27,
   "id": "20418df2-3d4e-41bb-a87a-2796dde494ef",
   "metadata": {},
   "outputs": [
    {
     "data": {
      "text/plain": [
       "(1797, 8, 8)"
      ]
     },
     "execution_count": 27,
     "metadata": {},
     "output_type": "execute_result"
    }
   ],
   "source": [
    "# .shape: the dimensions of the array\n",
    "images.shape"
   ]
  },
  {
   "cell_type": "code",
   "execution_count": 29,
   "id": "74c2cfe0-023e-448f-ac67-f75350c2e822",
   "metadata": {},
   "outputs": [
    {
     "data": {
      "text/plain": [
       "115008"
      ]
     },
     "execution_count": 29,
     "metadata": {},
     "output_type": "execute_result"
    }
   ],
   "source": [
    "# .size: the total number of elements\n",
    "images.size"
   ]
  },
  {
   "cell_type": "code",
   "execution_count": 33,
   "id": "60bee634-c3fb-47b1-bc45-e05347aa8f10",
   "metadata": {},
   "outputs": [
    {
     "data": {
      "text/plain": [
       "dtype('float64')"
      ]
     },
     "execution_count": 33,
     "metadata": {},
     "output_type": "execute_result"
    }
   ],
   "source": [
    "# .dtype\n",
    "images.dtype"
   ]
  },
  {
   "cell_type": "code",
   "execution_count": 35,
   "id": "77e73fb9-602e-4ad0-bba1-42e57adc1538",
   "metadata": {},
   "outputs": [
    {
     "data": {
      "text/plain": [
       "8"
      ]
     },
     "execution_count": 35,
     "metadata": {},
     "output_type": "execute_result"
    }
   ],
   "source": [
    "# .itemsize: the size in bytes of each element\n",
    "images.itemsize"
   ]
  },
  {
   "cell_type": "code",
   "execution_count": null,
   "id": "726f51fc-03b9-4038-9544-5eb742c61c12",
   "metadata": {},
   "outputs": [],
   "source": []
  }
 ],
 "metadata": {
  "kernelspec": {
   "display_name": "Python [conda env:base] *",
   "language": "python",
   "name": "conda-base-py"
  },
  "language_info": {
   "codemirror_mode": {
    "name": "ipython",
    "version": 3
   },
   "file_extension": ".py",
   "mimetype": "text/x-python",
   "name": "python",
   "nbconvert_exporter": "python",
   "pygments_lexer": "ipython3",
   "version": "3.12.7"
  }
 },
 "nbformat": 4,
 "nbformat_minor": 5
}
