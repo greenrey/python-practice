{
 "cells": [
  {
   "cell_type": "markdown",
   "id": "7a48b3aa-7c28-45b4-99c9-e3b452ec36ff",
   "metadata": {},
   "source": [
    "# NumPy quickstart [🔗](https://numpy.org/doc/stable/user/quickstart.html)\n",
    "\n",
    "This code is written for a quick recap on major functions of NumPy using **MNIST** dataset of Scikit-learn. Based on 'NumPy quickstart' document, added and modified code for learning and experimenting."
   ]
  },
  {
   "cell_type": "code",
   "execution_count": 22,
   "id": "9c62b490-a001-4b9b-a66c-65aa40c46ff7",
   "metadata": {},
   "outputs": [],
   "source": [
    "import numpy as np\n",
    "import seaborn as sns\n",
    "from sklearn.datasets import load_digits\n",
    "\n",
    "images = load_digits().images\n",
    "target = load_digits().target"
   ]
  },
  {
   "cell_type": "markdown",
   "id": "ba28dbcc-ab64-4003-81c0-8309e43b3793",
   "metadata": {},
   "source": [
    "## The basics"
   ]
  },
  {
   "cell_type": "code",
   "execution_count": 25,
   "id": "8bf45d74-5520-4178-815d-92b0d70394fe",
   "metadata": {},
   "outputs": [
    {
     "data": {
      "text/plain": [
       "3"
      ]
     },
     "execution_count": 25,
     "metadata": {},
     "output_type": "execute_result"
    }
   ],
   "source": [
    "# .ndim: the number of axes(dimensions) of the array\n",
    "images.ndim"
   ]
  },
  {
   "cell_type": "code",
   "execution_count": 27,
   "id": "20418df2-3d4e-41bb-a87a-2796dde494ef",
   "metadata": {},
   "outputs": [
    {
     "data": {
      "text/plain": [
       "(1797, 8, 8)"
      ]
     },
     "execution_count": 27,
     "metadata": {},
     "output_type": "execute_result"
    }
   ],
   "source": [
    "# .shape: the dimensions of the array\n",
    "images.shape"
   ]
  },
  {
   "cell_type": "code",
   "execution_count": 29,
   "id": "74c2cfe0-023e-448f-ac67-f75350c2e822",
   "metadata": {},
   "outputs": [
    {
     "data": {
      "text/plain": [
       "115008"
      ]
     },
     "execution_count": 29,
     "metadata": {},
     "output_type": "execute_result"
    }
   ],
   "source": [
    "# .size: the total number of elements\n",
    "images.size"
   ]
  },
  {
   "cell_type": "code",
   "execution_count": 33,
   "id": "60bee634-c3fb-47b1-bc45-e05347aa8f10",
   "metadata": {},
   "outputs": [
    {
     "data": {
      "text/plain": [
       "dtype('float64')"
      ]
     },
     "execution_count": 33,
     "metadata": {},
     "output_type": "execute_result"
    }
   ],
   "source": [
    "# .dtype\n",
    "images.dtype"
   ]
  },
  {
   "cell_type": "code",
   "execution_count": 35,
   "id": "77e73fb9-602e-4ad0-bba1-42e57adc1538",
   "metadata": {},
   "outputs": [
    {
     "data": {
      "text/plain": [
       "8"
      ]
     },
     "execution_count": 35,
     "metadata": {},
     "output_type": "execute_result"
    }
   ],
   "source": [
    "# .itemsize: the size in bytes of each element\n",
    "images.itemsize"
   ]
  },
  {
   "cell_type": "markdown",
   "id": "7a49ab1d-21ae-4597-8a36-cba76b58680b",
   "metadata": {},
   "source": [
    "### Array Creation"
   ]
  },
  {
   "cell_type": "code",
   "execution_count": 50,
   "id": "a9a3d2f6-2fae-4824-9383-7a186474175b",
   "metadata": {},
   "outputs": [
    {
     "data": {
      "text/plain": [
       "array([[0., 0., 0., 0., 0., 0., 0., 0.],\n",
       "       [0., 0., 0., 0., 0., 0., 0., 0.],\n",
       "       [0., 0., 0., 0., 0., 0., 0., 0.],\n",
       "       [0., 0., 0., 0., 0., 0., 0., 0.],\n",
       "       [0., 0., 0., 0., 0., 0., 0., 0.],\n",
       "       [0., 0., 0., 0., 0., 0., 0., 0.],\n",
       "       [0., 0., 0., 0., 0., 0., 0., 0.],\n",
       "       [0., 0., 0., 0., 0., 0., 0., 0.]])"
      ]
     },
     "execution_count": 50,
     "metadata": {},
     "output_type": "execute_result"
    }
   ],
   "source": [
    "# array of zeros\n",
    "np.zeros((8, 8))"
   ]
  },
  {
   "cell_type": "code",
   "execution_count": 54,
   "id": "abd16298-d4ee-42e4-8696-7ce4b14bfa07",
   "metadata": {},
   "outputs": [
    {
     "data": {
      "text/plain": [
       "array([[[1, 1, 1, 1, 1, 1, 1, 1],\n",
       "        [1, 1, 1, 1, 1, 1, 1, 1],\n",
       "        [1, 1, 1, 1, 1, 1, 1, 1],\n",
       "        [1, 1, 1, 1, 1, 1, 1, 1],\n",
       "        [1, 1, 1, 1, 1, 1, 1, 1],\n",
       "        [1, 1, 1, 1, 1, 1, 1, 1],\n",
       "        [1, 1, 1, 1, 1, 1, 1, 1],\n",
       "        [1, 1, 1, 1, 1, 1, 1, 1]],\n",
       "\n",
       "       [[1, 1, 1, 1, 1, 1, 1, 1],\n",
       "        [1, 1, 1, 1, 1, 1, 1, 1],\n",
       "        [1, 1, 1, 1, 1, 1, 1, 1],\n",
       "        [1, 1, 1, 1, 1, 1, 1, 1],\n",
       "        [1, 1, 1, 1, 1, 1, 1, 1],\n",
       "        [1, 1, 1, 1, 1, 1, 1, 1],\n",
       "        [1, 1, 1, 1, 1, 1, 1, 1],\n",
       "        [1, 1, 1, 1, 1, 1, 1, 1]]], dtype=int16)"
      ]
     },
     "execution_count": 54,
     "metadata": {},
     "output_type": "execute_result"
    }
   ],
   "source": [
    "# array of ones\n",
    "np.ones((2, 8, 8), dtype=np.int16)"
   ]
  },
  {
   "cell_type": "code",
   "execution_count": 66,
   "id": "03035698-8f53-4818-bf87-472d60fb8602",
   "metadata": {},
   "outputs": [
    {
     "data": {
      "text/plain": [
       "array([[0., 0., 0., 0., 0., 0., 0., 0.],\n",
       "       [0., 0., 0., 0., 0., 0., 0., 0.],\n",
       "       [0., 0., 0., 0., 0., 0., 0., 0.],\n",
       "       [0., 0., 0., 0., 0., 0., 0., 0.],\n",
       "       [0., 0., 0., 0., 0., 0., 0., 0.],\n",
       "       [0., 0., 0., 0., 0., 0., 0., 0.],\n",
       "       [0., 0., 0., 0., 0., 0., 0., 0.],\n",
       "       [0., 0., 0., 0., 0., 0., 0., 0.]])"
      ]
     },
     "execution_count": 66,
     "metadata": {},
     "output_type": "execute_result"
    }
   ],
   "source": [
    "# array of random content\n",
    "## depends on the state of the memory\n",
    "np.empty((8, 8))"
   ]
  },
  {
   "cell_type": "code",
   "execution_count": 76,
   "id": "db9c2011-1f16-4060-8400-7fae807b9d50",
   "metadata": {},
   "outputs": [
    {
     "data": {
      "text/plain": [
       "array([0. , 1.3, 2.6, 3.9, 5.2, 6.5, 7.8, 9.1])"
      ]
     },
     "execution_count": 76,
     "metadata": {},
     "output_type": "execute_result"
    }
   ],
   "source": [
    "# create sequences of numbers\n",
    "np.arange(0, 10, 1.3)"
   ]
  },
  {
   "cell_type": "code",
   "execution_count": 80,
   "id": "07f282ac-4141-4e3f-a23c-b62b9d95ce23",
   "metadata": {},
   "outputs": [
    {
     "data": {
      "text/plain": [
       "array([ 0.        ,  1.42857143,  2.85714286,  4.28571429,  5.71428571,\n",
       "        7.14285714,  8.57142857, 10.        ])"
      ]
     },
     "execution_count": 80,
     "metadata": {},
     "output_type": "execute_result"
    }
   ],
   "source": [
    "# create sequences of number with the number of elements\n",
    "np.linspace(0, 10, 8)"
   ]
  },
  {
   "cell_type": "raw",
   "id": "86d50267-998a-4441-8aa7-6bfdbb5a02fc",
   "metadata": {},
   "source": [
    "# np.fromfunction\n",
    ": Construct an array by executing a function over each coordinate.\n",
    "\n",
    "    <Parameters>\n",
    "\n",
    "        function: callable\n",
    "\n",
    "        shape: (N, )tuple of ints\n",
    "            Shape of the output array\n",
    "\n",
    "        dtype: data-type, optional"
   ]
  },
  {
   "cell_type": "code",
   "execution_count": 110,
   "id": "187f44ff-d7a5-4b97-86de-4fc061a5e723",
   "metadata": {},
   "outputs": [
    {
     "data": {
      "text/plain": [
       "array([[0, 1, 2],\n",
       "       [1, 2, 3],\n",
       "       [2, 3, 4],\n",
       "       [3, 4, 5]])"
      ]
     },
     "execution_count": 110,
     "metadata": {},
     "output_type": "execute_result"
    }
   ],
   "source": [
    "np.fromfunction(lambda i, j: i + j, (4, 3), dtype=int)"
   ]
  },
  {
   "cell_type": "code",
   "execution_count": 112,
   "id": "48acbe7e-79a6-466e-992d-8a6d067ebdbe",
   "metadata": {},
   "outputs": [
    {
     "data": {
      "text/plain": [
       "array([[ 0.,  1.,  2.],\n",
       "       [10., 11., 12.],\n",
       "       [20., 21., 22.],\n",
       "       [30., 31., 32.]])"
      ]
     },
     "execution_count": 112,
     "metadata": {},
     "output_type": "execute_result"
    }
   ],
   "source": [
    "def f(x, y):\n",
    "    return 10 * x + y\n",
    "\n",
    "np.fromfunction(f, (4, 3), dtype=float)"
   ]
  },
  {
   "cell_type": "markdown",
   "id": "48d324fd-5df1-48a9-8fe9-b5acf921dabd",
   "metadata": {},
   "source": [
    "### Print"
   ]
  },
  {
   "cell_type": "code",
   "execution_count": 85,
   "id": "bcc0cc7f-11f3-428c-9969-7b15255ab4b7",
   "metadata": {},
   "outputs": [],
   "source": [
    "# not skip the central part of array\n",
    "import sys\n",
    "np.set_printoptions(threshold=sys.maxsize)"
   ]
  },
  {
   "cell_type": "markdown",
   "id": "c76f445d-0b40-4dee-a828-b3df27cb2465",
   "metadata": {},
   "source": [
    "### Basic operations"
   ]
  },
  {
   "cell_type": "code",
   "execution_count": 93,
   "id": "051ce12c-e262-4b2f-a56f-d3b0c99dc22b",
   "metadata": {},
   "outputs": [
    {
     "data": {
      "text/plain": [
       "array([[  0.,  91., 220., 443., 448.,  89.,   0.,   0.],\n",
       "       [  0., 105., 294., 915., 928., 258.,   0.,   0.],\n",
       "       [  0.,  14.,  94., 594., 624., 235.,   0.,   0.],\n",
       "       [  0.,   0.,  52., 480., 512., 204.,   0.,   0.],\n",
       "       [  0.,   0.,  41., 447., 480., 195.,   0.,   0.],\n",
       "       [  0.,   0.,  53., 529., 560., 219.,   0.,   0.],\n",
       "       [  0.,  35., 139., 664., 688., 214.,   0.,   0.],\n",
       "       [  0.,  91., 223., 458., 464.,  92.,   0.,   0.]])"
      ]
     },
     "execution_count": 93,
     "metadata": {},
     "output_type": "execute_result"
    }
   ],
   "source": [
    "# matrix product\n",
    "images[0] @ images[1]"
   ]
  },
  {
   "cell_type": "markdown",
   "id": "8d45dc54-a918-4bff-8336-a42be5ef27ba",
   "metadata": {},
   "source": [
    "### Indexing, Slicing, and iterating"
   ]
  },
  {
   "cell_type": "code",
   "execution_count": 95,
   "id": "a23201eb-4087-477d-a48a-14c267366f0b",
   "metadata": {},
   "outputs": [
    {
     "data": {
      "text/plain": [
       "array([[ 0.,  0.,  5., 13.,  9.,  1.,  0.,  0.],\n",
       "       [ 0.,  3., 15.,  2.,  0., 11.,  8.,  0.],\n",
       "       [ 0.,  5.,  8.,  0.,  0.,  9.,  8.,  0.]])"
      ]
     },
     "execution_count": 95,
     "metadata": {},
     "output_type": "execute_result"
    }
   ],
   "source": [
    "# Slicing: from start to position 6, exclusive, select every 2nd element\n",
    "images[0][:6:2]"
   ]
  },
  {
   "cell_type": "code",
   "execution_count": 100,
   "id": "8dbfd61e-c7fa-40d1-8aaa-89b22978dbb2",
   "metadata": {},
   "outputs": [
    {
     "data": {
      "text/plain": [
       "array([[ 0.,  0.,  6., 13., 10.,  0.,  0.,  0.],\n",
       "       [ 0.,  2., 14.,  5., 10., 12.,  0.,  0.],\n",
       "       [ 0.,  4., 11.,  0.,  1., 12.,  7.,  0.],\n",
       "       [ 0.,  5.,  8.,  0.,  0.,  9.,  8.,  0.],\n",
       "       [ 0.,  4., 12.,  0.,  0.,  8.,  8.,  0.],\n",
       "       [ 0.,  3., 15.,  2.,  0., 11.,  8.,  0.],\n",
       "       [ 0.,  0., 13., 15., 10., 15.,  5.,  0.],\n",
       "       [ 0.,  0.,  5., 13.,  9.,  1.,  0.,  0.]])"
      ]
     },
     "execution_count": 100,
     "metadata": {},
     "output_type": "execute_result"
    }
   ],
   "source": [
    "# reverse the array\n",
    "images[0][::-1]"
   ]
  },
  {
   "cell_type": "code",
   "execution_count": 108,
   "id": "ad5bbb4c-a9dc-4acf-b5fe-2fab329b1840",
   "metadata": {},
   "outputs": [
    {
     "data": {
      "text/plain": [
       "array([ 5., 13., 15., 12.,  8., 11., 14.,  6.])"
      ]
     },
     "execution_count": 108,
     "metadata": {},
     "output_type": "execute_result"
    }
   ],
   "source": [
    "# ... : many colons as needed to produce a complete indexing tuple\n",
    "images[0][..., 2]"
   ]
  },
  {
   "cell_type": "code",
   "execution_count": 114,
   "id": "13051017-ce9c-4d7a-a03f-12d74ae37f1e",
   "metadata": {},
   "outputs": [
    {
     "name": "stdout",
     "output_type": "stream",
     "text": [
      "0.0\n",
      "0.0\n",
      "5.0\n",
      "13.0\n",
      "9.0\n",
      "1.0\n",
      "0.0\n",
      "0.0\n",
      "0.0\n",
      "0.0\n",
      "13.0\n",
      "15.0\n",
      "10.0\n",
      "15.0\n",
      "5.0\n",
      "0.0\n",
      "0.0\n",
      "3.0\n",
      "15.0\n",
      "2.0\n",
      "0.0\n",
      "11.0\n",
      "8.0\n",
      "0.0\n",
      "0.0\n",
      "4.0\n",
      "12.0\n",
      "0.0\n",
      "0.0\n",
      "8.0\n",
      "8.0\n",
      "0.0\n",
      "0.0\n",
      "5.0\n",
      "8.0\n",
      "0.0\n",
      "0.0\n",
      "9.0\n",
      "8.0\n",
      "0.0\n",
      "0.0\n",
      "4.0\n",
      "11.0\n",
      "0.0\n",
      "1.0\n",
      "12.0\n",
      "7.0\n",
      "0.0\n",
      "0.0\n",
      "2.0\n",
      "14.0\n",
      "5.0\n",
      "10.0\n",
      "12.0\n",
      "0.0\n",
      "0.0\n",
      "0.0\n",
      "0.0\n",
      "6.0\n",
      "13.0\n",
      "10.0\n",
      "0.0\n",
      "0.0\n",
      "0.0\n"
     ]
    }
   ],
   "source": [
    "# ,flat: iterotor over all the elements of the array\n",
    "for e in images[0].flat:\n",
    "    print(e)"
   ]
  },
  {
   "cell_type": "markdown",
   "id": "3acd6352-e160-4d58-8df2-0e338e0a61cb",
   "metadata": {},
   "source": [
    "## Shape manipulation"
   ]
  },
  {
   "cell_type": "markdown",
   "id": "701d0a1b-cb79-47a4-bd42-d5d99c7365b7",
   "metadata": {},
   "source": [
    "### Changing the shape"
   ]
  },
  {
   "cell_type": "code",
   "execution_count": 118,
   "id": "6196f26c-0a3d-4143-883c-1092fc0ea1f9",
   "metadata": {},
   "outputs": [
    {
     "data": {
      "text/plain": [
       "array([ 0.,  0.,  5., 13.,  9.,  1.,  0.,  0.,  0.,  0., 13., 15., 10.,\n",
       "       15.,  5.,  0.,  0.,  3., 15.,  2.,  0., 11.,  8.,  0.,  0.,  4.,\n",
       "       12.,  0.,  0.,  8.,  8.,  0.,  0.,  5.,  8.,  0.,  0.,  9.,  8.,\n",
       "        0.,  0.,  4., 11.,  0.,  1., 12.,  7.,  0.,  0.,  2., 14.,  5.,\n",
       "       10., 12.,  0.,  0.,  0.,  0.,  6., 13., 10.,  0.,  0.,  0.])"
      ]
     },
     "execution_count": 118,
     "metadata": {},
     "output_type": "execute_result"
    }
   ],
   "source": [
    "# .ravel(): returns the array, flattened\n",
    "images[0].ravel()"
   ]
  },
  {
   "cell_type": "code",
   "execution_count": 122,
   "id": "07fc2051-a53f-4dfa-a69b-a84685470034",
   "metadata": {},
   "outputs": [
    {
     "data": {
      "text/plain": [
       "array([[[ 0.,  0.,  5., 13.],\n",
       "        [ 9.,  1.,  0.,  0.],\n",
       "        [ 0.,  0., 13., 15.],\n",
       "        [10., 15.,  5.,  0.]],\n",
       "\n",
       "       [[ 0.,  3., 15.,  2.],\n",
       "        [ 0., 11.,  8.,  0.],\n",
       "        [ 0.,  4., 12.,  0.],\n",
       "        [ 0.,  8.,  8.,  0.]],\n",
       "\n",
       "       [[ 0.,  5.,  8.,  0.],\n",
       "        [ 0.,  9.,  8.,  0.],\n",
       "        [ 0.,  4., 11.,  0.],\n",
       "        [ 1., 12.,  7.,  0.]],\n",
       "\n",
       "       [[ 0.,  2., 14.,  5.],\n",
       "        [10., 12.,  0.,  0.],\n",
       "        [ 0.,  0.,  6., 13.],\n",
       "        [10.,  0.,  0.,  0.]]])"
      ]
     },
     "execution_count": 122,
     "metadata": {},
     "output_type": "execute_result"
    }
   ],
   "source": [
    "# .reshape(): returns the array with a modified shape\n",
    "images[0].reshape(4, 4, 4)"
   ]
  },
  {
   "cell_type": "code",
   "execution_count": 126,
   "id": "c2032996-4752-4edc-bbf3-813bc8ea6bc4",
   "metadata": {},
   "outputs": [
    {
     "data": {
      "text/plain": [
       "array([[[ 0.,  0.,  5., 13.],\n",
       "        [ 9.,  1.,  0.,  0.],\n",
       "        [ 0.,  0., 13., 15.],\n",
       "        [10., 15.,  5.,  0.]],\n",
       "\n",
       "       [[ 0.,  3., 15.,  2.],\n",
       "        [ 0., 11.,  8.,  0.],\n",
       "        [ 0.,  4., 12.,  0.],\n",
       "        [ 0.,  8.,  8.,  0.]],\n",
       "\n",
       "       [[ 0.,  5.,  8.,  0.],\n",
       "        [ 0.,  9.,  8.,  0.],\n",
       "        [ 0.,  4., 11.,  0.],\n",
       "        [ 1., 12.,  7.,  0.]],\n",
       "\n",
       "       [[ 0.,  2., 14.,  5.],\n",
       "        [10., 12.,  0.,  0.],\n",
       "        [ 0.,  0.,  6., 13.],\n",
       "        [10.,  0.,  0.,  0.]]])"
      ]
     },
     "execution_count": 126,
     "metadata": {},
     "output_type": "execute_result"
    }
   ],
   "source": [
    "# .resize(): modifies the array itself\n",
    "img0 = images[0].copy()\n",
    "img0.resize((4, 4, 4))\n",
    "img0"
   ]
  },
  {
   "cell_type": "code",
   "execution_count": 128,
   "id": "db3d231f-cb52-4495-943f-79b39c0155fc",
   "metadata": {},
   "outputs": [
    {
     "data": {
      "text/plain": [
       "array([[ 0.,  0.,  5., 13.,  9.,  1.,  0.,  0.],\n",
       "       [ 0.,  0., 13., 15., 10., 15.,  5.,  0.],\n",
       "       [ 0.,  3., 15.,  2.,  0., 11.,  8.,  0.],\n",
       "       [ 0.,  4., 12.,  0.,  0.,  8.,  8.,  0.],\n",
       "       [ 0.,  5.,  8.,  0.,  0.,  9.,  8.,  0.],\n",
       "       [ 0.,  4., 11.,  0.,  1., 12.,  7.,  0.],\n",
       "       [ 0.,  2., 14.,  5., 10., 12.,  0.,  0.],\n",
       "       [ 0.,  0.,  6., 13., 10.,  0.,  0.,  0.]])"
      ]
     },
     "execution_count": 128,
     "metadata": {},
     "output_type": "execute_result"
    }
   ],
   "source": [
    "# If a dimension is given as -1, the other dimensions are automatically calculated\n",
    "img0.reshape(8, -1)"
   ]
  },
  {
   "cell_type": "markdown",
   "id": "bab7ac76-26c6-4cea-989b-4df622238514",
   "metadata": {},
   "source": [
    "### Stacking together different arrays"
   ]
  },
  {
   "cell_type": "code",
   "execution_count": 134,
   "id": "9fea8938-461e-4a75-87ea-6ab84e2837a1",
   "metadata": {},
   "outputs": [
    {
     "data": {
      "text/plain": [
       "array([[ 0.,  0.,  5., 13.,  9.,  1.,  0.,  0.],\n",
       "       [ 0.,  0., 13., 15., 10., 15.,  5.,  0.],\n",
       "       [ 0.,  3., 15.,  2.,  0., 11.,  8.,  0.],\n",
       "       [ 0.,  4., 12.,  0.,  0.,  8.,  8.,  0.],\n",
       "       [ 0.,  5.,  8.,  0.,  0.,  9.,  8.,  0.],\n",
       "       [ 0.,  4., 11.,  0.,  1., 12.,  7.,  0.],\n",
       "       [ 0.,  2., 14.,  5., 10., 12.,  0.,  0.],\n",
       "       [ 0.,  0.,  6., 13., 10.,  0.,  0.,  0.],\n",
       "       [ 0.,  0.,  0., 12., 13.,  5.,  0.,  0.],\n",
       "       [ 0.,  0.,  0., 11., 16.,  9.,  0.,  0.],\n",
       "       [ 0.,  0.,  3., 15., 16.,  6.,  0.,  0.],\n",
       "       [ 0.,  7., 15., 16., 16.,  2.,  0.,  0.],\n",
       "       [ 0.,  0.,  1., 16., 16.,  3.,  0.,  0.],\n",
       "       [ 0.,  0.,  1., 16., 16.,  6.,  0.,  0.],\n",
       "       [ 0.,  0.,  1., 16., 16.,  6.,  0.,  0.],\n",
       "       [ 0.,  0.,  0., 11., 16., 10.,  0.,  0.]])"
      ]
     },
     "execution_count": 134,
     "metadata": {},
     "output_type": "execute_result"
    }
   ],
   "source": [
    "np.vstack((images[0], images[1]))"
   ]
  },
  {
   "cell_type": "code",
   "execution_count": 136,
   "id": "6c1d803f-3997-44b5-a865-97face0ba5e7",
   "metadata": {},
   "outputs": [
    {
     "data": {
      "text/plain": [
       "array([[ 0.,  0.,  5., 13.,  9.,  1.,  0.,  0.,  0.,  0.,  0., 12., 13.,\n",
       "         5.,  0.,  0.],\n",
       "       [ 0.,  0., 13., 15., 10., 15.,  5.,  0.,  0.,  0.,  0., 11., 16.,\n",
       "         9.,  0.,  0.],\n",
       "       [ 0.,  3., 15.,  2.,  0., 11.,  8.,  0.,  0.,  0.,  3., 15., 16.,\n",
       "         6.,  0.,  0.],\n",
       "       [ 0.,  4., 12.,  0.,  0.,  8.,  8.,  0.,  0.,  7., 15., 16., 16.,\n",
       "         2.,  0.,  0.],\n",
       "       [ 0.,  5.,  8.,  0.,  0.,  9.,  8.,  0.,  0.,  0.,  1., 16., 16.,\n",
       "         3.,  0.,  0.],\n",
       "       [ 0.,  4., 11.,  0.,  1., 12.,  7.,  0.,  0.,  0.,  1., 16., 16.,\n",
       "         6.,  0.,  0.],\n",
       "       [ 0.,  2., 14.,  5., 10., 12.,  0.,  0.,  0.,  0.,  1., 16., 16.,\n",
       "         6.,  0.,  0.],\n",
       "       [ 0.,  0.,  6., 13., 10.,  0.,  0.,  0.,  0.,  0.,  0., 11., 16.,\n",
       "        10.,  0.,  0.]])"
      ]
     },
     "execution_count": 136,
     "metadata": {},
     "output_type": "execute_result"
    }
   ],
   "source": [
    "np.hstack((images[0], images[1]))"
   ]
  },
  {
   "cell_type": "code",
   "execution_count": 142,
   "id": "4457a41f-12b4-48a1-87b0-76932f73f3c3",
   "metadata": {},
   "outputs": [
    {
     "data": {
      "text/plain": [
       "array([[ 0.,  0.],\n",
       "       [ 0.,  0.],\n",
       "       [ 5., 13.],\n",
       "       [13., 15.],\n",
       "       [ 9., 10.],\n",
       "       [ 1., 15.],\n",
       "       [ 0.,  5.],\n",
       "       [ 0.,  0.]])"
      ]
     },
     "execution_count": 142,
     "metadata": {},
     "output_type": "execute_result"
    }
   ],
   "source": [
    "# .column_stack(): stacks 1D arrays as columns into a 2D array\n",
    "## same as .hstack() for 2D arrays\n",
    "np.column_stack((images[0][0], images[0][1]))"
   ]
  },
  {
   "cell_type": "code",
   "execution_count": 156,
   "id": "56180acb-3f57-4ace-bdb6-8d1bd709fc65",
   "metadata": {},
   "outputs": [
    {
     "data": {
      "text/plain": [
       "array([[ 0.],\n",
       "       [ 0.],\n",
       "       [13.],\n",
       "       [15.],\n",
       "       [10.],\n",
       "       [15.],\n",
       "       [ 5.],\n",
       "       [ 0.]])"
      ]
     },
     "execution_count": 156,
     "metadata": {},
     "output_type": "execute_result"
    }
   ],
   "source": [
    "# View 1D array as a 2D column vector\n",
    "from numpy import newaxis # alias for None, useful for indexing arrays\n",
    "\n",
    "images[0][1][:, newaxis]"
   ]
  },
  {
   "cell_type": "code",
   "execution_count": 163,
   "id": "c473a058-8ca2-4107-98f6-1cdc868539bc",
   "metadata": {},
   "outputs": [
    {
     "data": {
      "text/plain": [
       "array([ 0,  1,  2,  3, 10,  9, 15,  4])"
      ]
     },
     "execution_count": 163,
     "metadata": {},
     "output_type": "execute_result"
    }
   ],
   "source": [
    "# .r_/ .c_: translates slice objects to concatenation along the first/second axis\n",
    "np.r_[0:4, 7, 9, 15, 4]"
   ]
  },
  {
   "cell_type": "code",
   "execution_count": 183,
   "id": "e4c161ff-3b2a-4626-b616-e8a8672ef082",
   "metadata": {},
   "outputs": [
    {
     "data": {
      "text/plain": [
       "array([[ 6.,  0.],\n",
       "       [ 4.,  0.],\n",
       "       [11.,  0.],\n",
       "       [ 9.,  0.]])"
      ]
     },
     "execution_count": 183,
     "metadata": {},
     "output_type": "execute_result"
    }
   ],
   "source": [
    "np.c_[np.array([6, 4, 11, 9]), np.zeros(4)]"
   ]
  },
  {
   "cell_type": "markdown",
   "id": "519f5c9b-4cd5-484d-9c3d-db2636f983c7",
   "metadata": {},
   "source": [
    "### Splitting one array into several smaller ones"
   ]
  },
  {
   "cell_type": "code",
   "execution_count": 201,
   "id": "2888ce6b-484a-49d6-b13d-804f48e8f929",
   "metadata": {},
   "outputs": [
    {
     "data": {
      "text/plain": [
       "[array([[0., 0.],\n",
       "        [0., 0.],\n",
       "        [0., 3.],\n",
       "        [0., 4.],\n",
       "        [0., 5.],\n",
       "        [0., 4.],\n",
       "        [0., 2.],\n",
       "        [0., 0.]]),\n",
       " array([[ 5., 13.],\n",
       "        [13., 15.],\n",
       "        [15.,  2.],\n",
       "        [12.,  0.],\n",
       "        [ 8.,  0.],\n",
       "        [11.,  0.],\n",
       "        [14.,  5.],\n",
       "        [ 6., 13.]]),\n",
       " array([[ 9.,  1.],\n",
       "        [10., 15.],\n",
       "        [ 0., 11.],\n",
       "        [ 0.,  8.],\n",
       "        [ 0.,  9.],\n",
       "        [ 1., 12.],\n",
       "        [10., 12.],\n",
       "        [10.,  0.]]),\n",
       " array([[0., 0.],\n",
       "        [5., 0.],\n",
       "        [8., 0.],\n",
       "        [8., 0.],\n",
       "        [8., 0.],\n",
       "        [7., 0.],\n",
       "        [0., 0.],\n",
       "        [0., 0.]])]"
      ]
     },
     "execution_count": 201,
     "metadata": {},
     "output_type": "execute_result"
    }
   ],
   "source": [
    "# np.hsplit(): split an array along its horizontal axis\n",
    "np.hsplit(images[0], 4)"
   ]
  },
  {
   "cell_type": "markdown",
   "id": "910f7c6e-e41f-4d35-874e-de1b6860d5b1",
   "metadata": {},
   "source": [
    "## Copies and views"
   ]
  },
  {
   "cell_type": "markdown",
   "id": "eeb85343-2c96-4593-800e-68e7b6defc6d",
   "metadata": {},
   "source": [
    "### View or shallow copy"
   ]
  },
  {
   "cell_type": "code",
   "execution_count": 205,
   "id": "520b124a-d531-488f-bbbc-be8f87117e2f",
   "metadata": {},
   "outputs": [
    {
     "name": "stdout",
     "output_type": "stream",
     "text": [
      "False\n",
      "(4, 16) (8, 8)\n"
     ]
    }
   ],
   "source": [
    "# .view(): creates a new array object that looks at the smae data\n",
    "## original array doesn't change when there's modification on the view\n",
    "img0 = images[0].view()\n",
    "\n",
    "print(img0 is images[0])\n",
    "\n",
    "img0 = img0.reshape((4, 16))\n",
    "print(img0.shape, images[0].shape)"
   ]
  },
  {
   "cell_type": "markdown",
   "id": "e306b29d-b65b-4a5c-b425-583a446465d6",
   "metadata": {},
   "source": [
    "## Advanced indexing and index tricks"
   ]
  },
  {
   "cell_type": "code",
   "execution_count": 210,
   "id": "f0d85b54-32d4-4156-b090-ea0bdd6eefce",
   "metadata": {},
   "outputs": [
    {
     "data": {
      "text/plain": [
       "array([[[ 0.,  3., 15.,  2.,  0., 11.,  8.,  0.],\n",
       "        [ 0.,  0.,  0., 11., 16.,  9.,  0.,  0.]],\n",
       "\n",
       "       [[ 0.,  7., 15., 16., 16.,  2.,  0.,  0.],\n",
       "        [ 0.,  0.,  1.,  6., 15., 11.,  0.,  0.]]])"
      ]
     },
     "execution_count": 210,
     "metadata": {},
     "output_type": "execute_result"
    }
   ],
   "source": [
    "# Give indexes for more than one dimension\n",
    "i = np.array([[0, 1],\n",
    "              [1, 2]])\n",
    "j = np.array([[2, 1],\n",
    "              [3, 3]])\n",
    "\n",
    "## [[images[0, 2], images[1, 1]], \n",
    "##  [images[1, 3], images[2, 3]]]\n",
    "images[i, j]"
   ]
  },
  {
   "cell_type": "code",
   "execution_count": 254,
   "id": "c87c64de-9486-46a1-a04c-097f8cb39ea0",
   "metadata": {},
   "outputs": [
    {
     "name": "stdout",
     "output_type": "stream",
     "text": [
      "ind: [0 4 2 1 1 1 2 0]\n"
     ]
    },
    {
     "data": {
      "text/plain": [
       "array([ 0.,  5., 15., 15., 10., 15.,  8.,  0.])"
      ]
     },
     "execution_count": 254,
     "metadata": {},
     "output_type": "execute_result"
    }
   ],
   "source": [
    "# .argmax(): returns the indices of the maximum values along an axis\n",
    "\n",
    "# index of the maxima for each series\n",
    "ind = images[0].argmax(axis=0)\n",
    "print('ind:', ind)\n",
    "\n",
    "# values corresponding to the maxima\n",
    "images[0][ind, range(images[0].shape[1])]"
   ]
  },
  {
   "cell_type": "code",
   "execution_count": 252,
   "id": "2c735fd0-6e74-4cf0-97d7-2d9d44253c68",
   "metadata": {},
   "outputs": [
    {
     "data": {
      "text/plain": [
       "array([ 0.,  5., 15., 15., 10., 15.,  8.,  0.])"
      ]
     },
     "execution_count": 252,
     "metadata": {},
     "output_type": "execute_result"
    }
   ],
   "source": []
  }
 ],
 "metadata": {
  "kernelspec": {
   "display_name": "Python [conda env:base] *",
   "language": "python",
   "name": "conda-base-py"
  },
  "language_info": {
   "codemirror_mode": {
    "name": "ipython",
    "version": 3
   },
   "file_extension": ".py",
   "mimetype": "text/x-python",
   "name": "python",
   "nbconvert_exporter": "python",
   "pygments_lexer": "ipython3",
   "version": "3.12.7"
  }
 },
 "nbformat": 4,
 "nbformat_minor": 5
}
