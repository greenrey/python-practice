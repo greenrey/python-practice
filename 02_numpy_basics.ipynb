{
 "cells": [
  {
   "cell_type": "markdown",
   "id": "7a48b3aa-7c28-45b4-99c9-e3b452ec36ff",
   "metadata": {},
   "source": [
    "# NumPy quickstart [🔗](https://numpy.org/doc/stable/user/quickstart.html)\n",
    "\n",
    "This code is written for a quick recap on major functions of NumPy using **Digits** dataset of Scikit-learn. Based on 'NumPy quickstart' document, added and modified code for learning and experimenting."
   ]
  },
  {
   "cell_type": "code",
   "execution_count": 9,
   "id": "d7b65f9a-de74-4700-9b4b-6a6a084f9a67",
   "metadata": {},
   "outputs": [],
   "source": [
    "import numpy as np\n",
    "import seaborn as sns\n",
    "import matplotlib.pyplot as plt"
   ]
  },
  {
   "cell_type": "code",
   "execution_count": 10,
   "id": "89edf03d-33d2-46d5-be61-9148e1e66edd",
   "metadata": {},
   "outputs": [],
   "source": [
    "from sklearn.datasets import load_digits\n",
    "\n",
    "images = load_digits().images\n",
    "target = load_digits().target"
   ]
  },
  {
   "cell_type": "code",
   "execution_count": 288,
   "id": "5ce54e3d-1c88-4f13-8ea8-bf68a798bbb6",
   "metadata": {},
   "outputs": [
    {
     "data": {
      "image/png": "[encoded data removed]",
      "text/plain": [
       "<Figure size 640x480 with 5 Axes>"
      ]
     },
     "metadata": {},
     "output_type": "display_data"
    }
   ],
   "source": [
    "fig, axes = plt.subplots(1, 5)\n",
    "\n",
    "\n",
    "for i in range(5):\n",
    "    axes[i].imshow(images[i], cmap='grey')\n",
    "\n",
    "plt.show()"
   ]
  },
  {
   "cell_type": "markdown",
   "id": "ba28dbcc-ab64-4003-81c0-8309e43b3793",
   "metadata": {},
   "source": [
    "## The basics"
   ]
  },
  {
   "cell_type": "code",
   "execution_count": 14,
   "id": "8bf45d74-5520-4178-815d-92b0d70394fe",
   "metadata": {},
   "outputs": [
    {
     "data": {
      "text/plain": [
       "3"
      ]
     },
     "execution_count": 14,
     "metadata": {},
     "output_type": "execute_result"
    }
   ],
   "source": [
    "# .ndim: the number of axes(dimensions) of the array\n",
    "images.ndim"
   ]
  },
  {
   "cell_type": "code",
   "execution_count": 16,
   "id": "20418df2-3d4e-41bb-a87a-2796dde494ef",
   "metadata": {},
   "outputs": [
    {
     "data": {
      "text/plain": [
       "(1797, 8, 8)"
      ]
     },
     "execution_count": 16,
     "metadata": {},
     "output_type": "execute_result"
    }
   ],
   "source": [
    "# .shape: the dimensions of the array\n",
    "images.shape"
   ]
  },
  {
   "cell_type": "code",
   "execution_count": 18,
   "id": "74c2cfe0-023e-448f-ac67-f75350c2e822",
   "metadata": {},
   "outputs": [
    {
     "data": {
      "text/plain": [
       "115008"
      ]
     },
     "execution_count": 18,
     "metadata": {},
     "output_type": "execute_result"
    }
   ],
   "source": [
    "# .size: the total number of elements\n",
    "images.size"
   ]
  },
  {
   "cell_type": "code",
   "execution_count": 20,
   "id": "60bee634-c3fb-47b1-bc45-e05347aa8f10",
   "metadata": {},
   "outputs": [
    {
     "data": {
      "text/plain": [
       "dtype('float64')"
      ]
     },
     "execution_count": 20,
     "metadata": {},
     "output_type": "execute_result"
    }
   ],
   "source": [
    "# .dtype\n",
    "images.dtype"
   ]
  },
  {
   "cell_type": "code",
   "execution_count": 22,
   "id": "77e73fb9-602e-4ad0-bba1-42e57adc1538",
   "metadata": {},
   "outputs": [
    {
     "data": {
      "text/plain": [
       "8"
      ]
     },
     "execution_count": 22,
     "metadata": {},
     "output_type": "execute_result"
    }
   ],
   "source": [
    "# .itemsize: the size in bytes of each element\n",
    "images.itemsize"
   ]
  },
  {
   "cell_type": "markdown",
   "id": "7a49ab1d-21ae-4597-8a36-cba76b58680b",
   "metadata": {},
   "source": [
    "### Array Creation"
   ]
  },
  {
   "cell_type": "code",
   "execution_count": 25,
   "id": "a9a3d2f6-2fae-4824-9383-7a186474175b",
   "metadata": {},
   "outputs": [
    {
     "data": {
      "text/plain": [
       "array([[0., 0., 0., 0., 0., 0., 0., 0.],\n",
       "       [0., 0., 0., 0., 0., 0., 0., 0.],\n",
       "       [0., 0., 0., 0., 0., 0., 0., 0.],\n",
       "       [0., 0., 0., 0., 0., 0., 0., 0.],\n",
       "       [0., 0., 0., 0., 0., 0., 0., 0.],\n",
       "       [0., 0., 0., 0., 0., 0., 0., 0.],\n",
       "       [0., 0., 0., 0., 0., 0., 0., 0.],\n",
       "       [0., 0., 0., 0., 0., 0., 0., 0.]])"
      ]
     },
     "execution_count": 25,
     "metadata": {},
     "output_type": "execute_result"
    }
   ],
   "source": [
    "# array of zeros\n",
    "np.zeros((8, 8))"
   ]
  },
  {
   "cell_type": "code",
   "execution_count": 27,
   "id": "abd16298-d4ee-42e4-8696-7ce4b14bfa07",
   "metadata": {},
   "outputs": [
    {
     "data": {
      "text/plain": [
       "array([[[1, 1, 1, 1, 1, 1, 1, 1],\n",
       "        [1, 1, 1, 1, 1, 1, 1, 1],\n",
       "        [1, 1, 1, 1, 1, 1, 1, 1],\n",
       "        [1, 1, 1, 1, 1, 1, 1, 1],\n",
       "        [1, 1, 1, 1, 1, 1, 1, 1],\n",
       "        [1, 1, 1, 1, 1, 1, 1, 1],\n",
       "        [1, 1, 1, 1, 1, 1, 1, 1],\n",
       "        [1, 1, 1, 1, 1, 1, 1, 1]],\n",
       "\n",
       "       [[1, 1, 1, 1, 1, 1, 1, 1],\n",
       "        [1, 1, 1, 1, 1, 1, 1, 1],\n",
       "        [1, 1, 1, 1, 1, 1, 1, 1],\n",
       "        [1, 1, 1, 1, 1, 1, 1, 1],\n",
       "        [1, 1, 1, 1, 1, 1, 1, 1],\n",
       "        [1, 1, 1, 1, 1, 1, 1, 1],\n",
       "        [1, 1, 1, 1, 1, 1, 1, 1],\n",
       "        [1, 1, 1, 1, 1, 1, 1, 1]]], dtype=int16)"
      ]
     },
     "execution_count": 27,
     "metadata": {},
     "output_type": "execute_result"
    }
   ],
   "source": [
    "# array of ones\n",
    "np.ones((2, 8, 8), dtype=np.int16)"
   ]
  },
  {
   "cell_type": "code",
   "execution_count": 29,
   "id": "03035698-8f53-4818-bf87-472d60fb8602",
   "metadata": {},
   "outputs": [
    {
     "data": {
      "text/plain": [
       "array([[0., 0., 0., 0., 0., 0., 0., 0.],\n",
       "       [0., 0., 0., 0., 0., 0., 0., 0.],\n",
       "       [0., 0., 0., 0., 0., 0., 0., 0.],\n",
       "       [0., 0., 0., 0., 0., 0., 0., 0.],\n",
       "       [0., 0., 0., 0., 0., 0., 0., 0.],\n",
       "       [0., 0., 0., 0., 0., 0., 0., 0.],\n",
       "       [0., 0., 0., 0., 0., 0., 0., 0.],\n",
       "       [0., 0., 0., 0., 0., 0., 0., 0.]])"
      ]
     },
     "execution_count": 29,
     "metadata": {},
     "output_type": "execute_result"
    }
   ],
   "source": [
    "# array of random content\n",
    "## depends on the state of the memory\n",
    "np.empty((8, 8))"
   ]
  },
  {
   "cell_type": "code",
   "execution_count": 31,
   "id": "db9c2011-1f16-4060-8400-7fae807b9d50",
   "metadata": {},
   "outputs": [
    {
     "data": {
      "text/plain": [
       "array([0. , 1.3, 2.6, 3.9, 5.2, 6.5, 7.8, 9.1])"
      ]
     },
     "execution_count": 31,
     "metadata": {},
     "output_type": "execute_result"
    }
   ],
   "source": [
    "# create sequences of numbers\n",
    "np.arange(0, 10, 1.3)"
   ]
  },
  {
   "cell_type": "code",
   "execution_count": 32,
   "id": "07f282ac-4141-4e3f-a23c-b62b9d95ce23",
   "metadata": {},
   "outputs": [
    {
     "data": {
      "text/plain": [
       "array([ 0.        ,  1.42857143,  2.85714286,  4.28571429,  5.71428571,\n",
       "        7.14285714,  8.57142857, 10.        ])"
      ]
     },
     "execution_count": 32,
     "metadata": {},
     "output_type": "execute_result"
    }
   ],
   "source": [
    "# create sequences of number with the number of elements\n",
    "np.linspace(0, 10, 8)"
   ]
  },
  {
   "cell_type": "raw",
   "id": "86d50267-998a-4441-8aa7-6bfdbb5a02fc",
   "metadata": {},
   "source": [
    "# np.fromfunction\n",
    ": Construct an array by executing a function over each coordinate.\n",
    "\n",
    "    <Parameters>\n",
    "\n",
    "        function: callable\n",
    "\n",
    "        shape: (N, )tuple of ints\n",
    "            Shape of the output array\n",
    "\n",
    "        dtype: data-type, optional"
   ]
  },
  {
   "cell_type": "code",
   "execution_count": 35,
   "id": "187f44ff-d7a5-4b97-86de-4fc061a5e723",
   "metadata": {},
   "outputs": [
    {
     "data": {
      "text/plain": [
       "array([[0, 1, 2],\n",
       "       [1, 2, 3],\n",
       "       [2, 3, 4],\n",
       "       [3, 4, 5]])"
      ]
     },
     "execution_count": 35,
     "metadata": {},
     "output_type": "execute_result"
    }
   ],
   "source": [
    "np.fromfunction(lambda i, j: i + j, (4, 3), dtype=int)"
   ]
  },
  {
   "cell_type": "code",
   "execution_count": 37,
   "id": "48acbe7e-79a6-466e-992d-8a6d067ebdbe",
   "metadata": {},
   "outputs": [
    {
     "data": {
      "text/plain": [
       "array([[ 0.,  1.,  2.],\n",
       "       [10., 11., 12.],\n",
       "       [20., 21., 22.],\n",
       "       [30., 31., 32.]])"
      ]
     },
     "execution_count": 37,
     "metadata": {},
     "output_type": "execute_result"
    }
   ],
   "source": [
    "def f(x, y):\n",
    "    return 10 * x + y\n",
    "\n",
    "np.fromfunction(f, (4, 3), dtype=float)"
   ]
  },
  {
   "cell_type": "markdown",
   "id": "48d324fd-5df1-48a9-8fe9-b5acf921dabd",
   "metadata": {},
   "source": [
    "### Print"
   ]
  },
  {
   "cell_type": "code",
   "execution_count": 40,
   "id": "bcc0cc7f-11f3-428c-9969-7b15255ab4b7",
   "metadata": {},
   "outputs": [],
   "source": [
    "# not skip the central part of array\n",
    "import sys\n",
    "np.set_printoptions(threshold=sys.maxsize)"
   ]
  },
  {
   "cell_type": "markdown",
   "id": "c76f445d-0b40-4dee-a828-b3df27cb2465",
   "metadata": {},
   "source": [
    "### Basic operations"
   ]
  },
  {
   "cell_type": "code",
   "execution_count": 43,
   "id": "051ce12c-e262-4b2f-a56f-d3b0c99dc22b",
   "metadata": {},
   "outputs": [
    {
     "data": {
      "text/plain": [
       "array([[  0.,  91., 220., 443., 448.,  89.,   0.,   0.],\n",
       "       [  0., 105., 294., 915., 928., 258.,   0.,   0.],\n",
       "       [  0.,  14.,  94., 594., 624., 235.,   0.,   0.],\n",
       "       [  0.,   0.,  52., 480., 512., 204.,   0.,   0.],\n",
       "       [  0.,   0.,  41., 447., 480., 195.,   0.,   0.],\n",
       "       [  0.,   0.,  53., 529., 560., 219.,   0.,   0.],\n",
       "       [  0.,  35., 139., 664., 688., 214.,   0.,   0.],\n",
       "       [  0.,  91., 223., 458., 464.,  92.,   0.,   0.]])"
      ]
     },
     "execution_count": 43,
     "metadata": {},
     "output_type": "execute_result"
    }
   ],
   "source": [
    "# matrix product\n",
    "images[0] @ images[1]"
   ]
  },
  {
   "cell_type": "markdown",
   "id": "8d45dc54-a918-4bff-8336-a42be5ef27ba",
   "metadata": {},
   "source": [
    "### Indexing, Slicing, and iterating"
   ]
  },
  {
   "cell_type": "code",
   "execution_count": 46,
   "id": "a23201eb-4087-477d-a48a-14c267366f0b",
   "metadata": {},
   "outputs": [
    {
     "data": {
      "text/plain": [
       "array([[ 0.,  0.,  5., 13.,  9.,  1.,  0.,  0.],\n",
       "       [ 0.,  3., 15.,  2.,  0., 11.,  8.,  0.],\n",
       "       [ 0.,  5.,  8.,  0.,  0.,  9.,  8.,  0.]])"
      ]
     },
     "execution_count": 46,
     "metadata": {},
     "output_type": "execute_result"
    }
   ],
   "source": [
    "# Slicing: from start to position 6, exclusive, select every 2nd element\n",
    "images[0][:6:2]"
   ]
  },
  {
   "cell_type": "code",
   "execution_count": 48,
   "id": "8dbfd61e-c7fa-40d1-8aaa-89b22978dbb2",
   "metadata": {},
   "outputs": [
    {
     "data": {
      "text/plain": [
       "array([[ 0.,  0.,  6., 13., 10.,  0.,  0.,  0.],\n",
       "       [ 0.,  2., 14.,  5., 10., 12.,  0.,  0.],\n",
       "       [ 0.,  4., 11.,  0.,  1., 12.,  7.,  0.],\n",
       "       [ 0.,  5.,  8.,  0.,  0.,  9.,  8.,  0.],\n",
       "       [ 0.,  4., 12.,  0.,  0.,  8.,  8.,  0.],\n",
       "       [ 0.,  3., 15.,  2.,  0., 11.,  8.,  0.],\n",
       "       [ 0.,  0., 13., 15., 10., 15.,  5.,  0.],\n",
       "       [ 0.,  0.,  5., 13.,  9.,  1.,  0.,  0.]])"
      ]
     },
     "execution_count": 48,
     "metadata": {},
     "output_type": "execute_result"
    }
   ],
   "source": [
    "# reverse the array\n",
    "images[0][::-1]"
   ]
  },
  {
   "cell_type": "code",
   "execution_count": 49,
   "id": "ad5bbb4c-a9dc-4acf-b5fe-2fab329b1840",
   "metadata": {},
   "outputs": [
    {
     "data": {
      "text/plain": [
       "array([ 5., 13., 15., 12.,  8., 11., 14.,  6.])"
      ]
     },
     "execution_count": 49,
     "metadata": {},
     "output_type": "execute_result"
    }
   ],
   "source": [
    "# ... : many colons as needed to produce a complete indexing tuple\n",
    "images[0][..., 2]"
   ]
  },
  {
   "cell_type": "code",
   "execution_count": 52,
   "id": "13051017-ce9c-4d7a-a03f-12d74ae37f1e",
   "metadata": {},
   "outputs": [
    {
     "name": "stdout",
     "output_type": "stream",
     "text": [
      "0.0\n",
      "0.0\n",
      "5.0\n",
      "13.0\n",
      "9.0\n",
      "1.0\n",
      "0.0\n",
      "0.0\n",
      "0.0\n",
      "0.0\n",
      "13.0\n",
      "15.0\n",
      "10.0\n",
      "15.0\n",
      "5.0\n",
      "0.0\n",
      "0.0\n",
      "3.0\n",
      "15.0\n",
      "2.0\n",
      "0.0\n",
      "11.0\n",
      "8.0\n",
      "0.0\n",
      "0.0\n",
      "4.0\n",
      "12.0\n",
      "0.0\n",
      "0.0\n",
      "8.0\n",
      "8.0\n",
      "0.0\n",
      "0.0\n",
      "5.0\n",
      "8.0\n",
      "0.0\n",
      "0.0\n",
      "9.0\n",
      "8.0\n",
      "0.0\n",
      "0.0\n",
      "4.0\n",
      "11.0\n",
      "0.0\n",
      "1.0\n",
      "12.0\n",
      "7.0\n",
      "0.0\n",
      "0.0\n",
      "2.0\n",
      "14.0\n",
      "5.0\n",
      "10.0\n",
      "12.0\n",
      "0.0\n",
      "0.0\n",
      "0.0\n",
      "0.0\n",
      "6.0\n",
      "13.0\n",
      "10.0\n",
      "0.0\n",
      "0.0\n",
      "0.0\n"
     ]
    }
   ],
   "source": [
    "# ,flat: iterotor over all the elements of the array\n",
    "for e in images[0].flat:\n",
    "    print(e)"
   ]
  },
  {
   "cell_type": "markdown",
   "id": "3acd6352-e160-4d58-8df2-0e338e0a61cb",
   "metadata": {},
   "source": [
    "## Shape manipulation"
   ]
  },
  {
   "cell_type": "markdown",
   "id": "701d0a1b-cb79-47a4-bd42-d5d99c7365b7",
   "metadata": {},
   "source": [
    "### Changing the shape"
   ]
  },
  {
   "cell_type": "code",
   "execution_count": 56,
   "id": "6196f26c-0a3d-4143-883c-1092fc0ea1f9",
   "metadata": {},
   "outputs": [
    {
     "data": {
      "text/plain": [
       "array([ 0.,  0.,  5., 13.,  9.,  1.,  0.,  0.,  0.,  0., 13., 15., 10.,\n",
       "       15.,  5.,  0.,  0.,  3., 15.,  2.,  0., 11.,  8.,  0.,  0.,  4.,\n",
       "       12.,  0.,  0.,  8.,  8.,  0.,  0.,  5.,  8.,  0.,  0.,  9.,  8.,\n",
       "        0.,  0.,  4., 11.,  0.,  1., 12.,  7.,  0.,  0.,  2., 14.,  5.,\n",
       "       10., 12.,  0.,  0.,  0.,  0.,  6., 13., 10.,  0.,  0.,  0.])"
      ]
     },
     "execution_count": 56,
     "metadata": {},
     "output_type": "execute_result"
    }
   ],
   "source": [
    "# .ravel(): returns the array, flattened\n",
    "images[0].ravel()"
   ]
  },
  {
   "cell_type": "code",
   "execution_count": 58,
   "id": "07fc2051-a53f-4dfa-a69b-a84685470034",
   "metadata": {},
   "outputs": [
    {
     "data": {
      "text/plain": [
       "array([[[ 0.,  0.,  5., 13.],\n",
       "        [ 9.,  1.,  0.,  0.],\n",
       "        [ 0.,  0., 13., 15.],\n",
       "        [10., 15.,  5.,  0.]],\n",
       "\n",
       "       [[ 0.,  3., 15.,  2.],\n",
       "        [ 0., 11.,  8.,  0.],\n",
       "        [ 0.,  4., 12.,  0.],\n",
       "        [ 0.,  8.,  8.,  0.]],\n",
       "\n",
       "       [[ 0.,  5.,  8.,  0.],\n",
       "        [ 0.,  9.,  8.,  0.],\n",
       "        [ 0.,  4., 11.,  0.],\n",
       "        [ 1., 12.,  7.,  0.]],\n",
       "\n",
       "       [[ 0.,  2., 14.,  5.],\n",
       "        [10., 12.,  0.,  0.],\n",
       "        [ 0.,  0.,  6., 13.],\n",
       "        [10.,  0.,  0.,  0.]]])"
      ]
     },
     "execution_count": 58,
     "metadata": {},
     "output_type": "execute_result"
    }
   ],
   "source": [
    "# .reshape(): returns the array with a modified shape\n",
    "images[0].reshape(4, 4, 4)"
   ]
  },
  {
   "cell_type": "code",
   "execution_count": 59,
   "id": "c2032996-4752-4edc-bbf3-813bc8ea6bc4",
   "metadata": {},
   "outputs": [
    {
     "data": {
      "text/plain": [
       "array([[[ 0.,  0.,  5., 13.],\n",
       "        [ 9.,  1.,  0.,  0.],\n",
       "        [ 0.,  0., 13., 15.],\n",
       "        [10., 15.,  5.,  0.]],\n",
       "\n",
       "       [[ 0.,  3., 15.,  2.],\n",
       "        [ 0., 11.,  8.,  0.],\n",
       "        [ 0.,  4., 12.,  0.],\n",
       "        [ 0.,  8.,  8.,  0.]],\n",
       "\n",
       "       [[ 0.,  5.,  8.,  0.],\n",
       "        [ 0.,  9.,  8.,  0.],\n",
       "        [ 0.,  4., 11.,  0.],\n",
       "        [ 1., 12.,  7.,  0.]],\n",
       "\n",
       "       [[ 0.,  2., 14.,  5.],\n",
       "        [10., 12.,  0.,  0.],\n",
       "        [ 0.,  0.,  6., 13.],\n",
       "        [10.,  0.,  0.,  0.]]])"
      ]
     },
     "execution_count": 59,
     "metadata": {},
     "output_type": "execute_result"
    }
   ],
   "source": [
    "# .resize(): modifies the array itself\n",
    "img0 = images[0].copy()\n",
    "img0.resize((4, 4, 4))\n",
    "img0"
   ]
  },
  {
   "cell_type": "code",
   "execution_count": 62,
   "id": "db3d231f-cb52-4495-943f-79b39c0155fc",
   "metadata": {},
   "outputs": [
    {
     "data": {
      "text/plain": [
       "array([[ 0.,  0.,  5., 13.,  9.,  1.,  0.,  0.],\n",
       "       [ 0.,  0., 13., 15., 10., 15.,  5.,  0.],\n",
       "       [ 0.,  3., 15.,  2.,  0., 11.,  8.,  0.],\n",
       "       [ 0.,  4., 12.,  0.,  0.,  8.,  8.,  0.],\n",
       "       [ 0.,  5.,  8.,  0.,  0.,  9.,  8.,  0.],\n",
       "       [ 0.,  4., 11.,  0.,  1., 12.,  7.,  0.],\n",
       "       [ 0.,  2., 14.,  5., 10., 12.,  0.,  0.],\n",
       "       [ 0.,  0.,  6., 13., 10.,  0.,  0.,  0.]])"
      ]
     },
     "execution_count": 62,
     "metadata": {},
     "output_type": "execute_result"
    }
   ],
   "source": [
    "# If a dimension is given as -1, the other dimensions are automatically calculated\n",
    "img0.reshape(8, -1)"
   ]
  },
  {
   "cell_type": "markdown",
   "id": "bab7ac76-26c6-4cea-989b-4df622238514",
   "metadata": {},
   "source": [
    "### Stacking together different arrays"
   ]
  },
  {
   "cell_type": "code",
   "execution_count": 65,
   "id": "9fea8938-461e-4a75-87ea-6ab84e2837a1",
   "metadata": {},
   "outputs": [
    {
     "data": {
      "text/plain": [
       "array([[ 0.,  0.,  5., 13.,  9.,  1.,  0.,  0.],\n",
       "       [ 0.,  0., 13., 15., 10., 15.,  5.,  0.],\n",
       "       [ 0.,  3., 15.,  2.,  0., 11.,  8.,  0.],\n",
       "       [ 0.,  4., 12.,  0.,  0.,  8.,  8.,  0.],\n",
       "       [ 0.,  5.,  8.,  0.,  0.,  9.,  8.,  0.],\n",
       "       [ 0.,  4., 11.,  0.,  1., 12.,  7.,  0.],\n",
       "       [ 0.,  2., 14.,  5., 10., 12.,  0.,  0.],\n",
       "       [ 0.,  0.,  6., 13., 10.,  0.,  0.,  0.],\n",
       "       [ 0.,  0.,  0., 12., 13.,  5.,  0.,  0.],\n",
       "       [ 0.,  0.,  0., 11., 16.,  9.,  0.,  0.],\n",
       "       [ 0.,  0.,  3., 15., 16.,  6.,  0.,  0.],\n",
       "       [ 0.,  7., 15., 16., 16.,  2.,  0.,  0.],\n",
       "       [ 0.,  0.,  1., 16., 16.,  3.,  0.,  0.],\n",
       "       [ 0.,  0.,  1., 16., 16.,  6.,  0.,  0.],\n",
       "       [ 0.,  0.,  1., 16., 16.,  6.,  0.,  0.],\n",
       "       [ 0.,  0.,  0., 11., 16., 10.,  0.,  0.]])"
      ]
     },
     "execution_count": 65,
     "metadata": {},
     "output_type": "execute_result"
    }
   ],
   "source": [
    "np.vstack((images[0], images[1]))"
   ]
  },
  {
   "cell_type": "code",
   "execution_count": 66,
   "id": "6c1d803f-3997-44b5-a865-97face0ba5e7",
   "metadata": {},
   "outputs": [
    {
     "data": {
      "text/plain": [
       "array([[ 0.,  0.,  5., 13.,  9.,  1.,  0.,  0.,  0.,  0.,  0., 12., 13.,\n",
       "         5.,  0.,  0.],\n",
       "       [ 0.,  0., 13., 15., 10., 15.,  5.,  0.,  0.,  0.,  0., 11., 16.,\n",
       "         9.,  0.,  0.],\n",
       "       [ 0.,  3., 15.,  2.,  0., 11.,  8.,  0.,  0.,  0.,  3., 15., 16.,\n",
       "         6.,  0.,  0.],\n",
       "       [ 0.,  4., 12.,  0.,  0.,  8.,  8.,  0.,  0.,  7., 15., 16., 16.,\n",
       "         2.,  0.,  0.],\n",
       "       [ 0.,  5.,  8.,  0.,  0.,  9.,  8.,  0.,  0.,  0.,  1., 16., 16.,\n",
       "         3.,  0.,  0.],\n",
       "       [ 0.,  4., 11.,  0.,  1., 12.,  7.,  0.,  0.,  0.,  1., 16., 16.,\n",
       "         6.,  0.,  0.],\n",
       "       [ 0.,  2., 14.,  5., 10., 12.,  0.,  0.,  0.,  0.,  1., 16., 16.,\n",
       "         6.,  0.,  0.],\n",
       "       [ 0.,  0.,  6., 13., 10.,  0.,  0.,  0.,  0.,  0.,  0., 11., 16.,\n",
       "        10.,  0.,  0.]])"
      ]
     },
     "execution_count": 66,
     "metadata": {},
     "output_type": "execute_result"
    }
   ],
   "source": [
    "np.hstack((images[0], images[1]))"
   ]
  },
  {
   "cell_type": "code",
   "execution_count": 69,
   "id": "4457a41f-12b4-48a1-87b0-76932f73f3c3",
   "metadata": {},
   "outputs": [
    {
     "data": {
      "text/plain": [
       "array([[ 0.,  0.],\n",
       "       [ 0.,  0.],\n",
       "       [ 5., 13.],\n",
       "       [13., 15.],\n",
       "       [ 9., 10.],\n",
       "       [ 1., 15.],\n",
       "       [ 0.,  5.],\n",
       "       [ 0.,  0.]])"
      ]
     },
     "execution_count": 69,
     "metadata": {},
     "output_type": "execute_result"
    }
   ],
   "source": [
    "# .column_stack(): stacks 1D arrays as columns into a 2D array\n",
    "## same as .hstack() for 2D arrays\n",
    "np.column_stack((images[0][0], images[0][1]))"
   ]
  },
  {
   "cell_type": "code",
   "execution_count": 70,
   "id": "56180acb-3f57-4ace-bdb6-8d1bd709fc65",
   "metadata": {},
   "outputs": [
    {
     "data": {
      "text/plain": [
       "array([[ 0.],\n",
       "       [ 0.],\n",
       "       [13.],\n",
       "       [15.],\n",
       "       [10.],\n",
       "       [15.],\n",
       "       [ 5.],\n",
       "       [ 0.]])"
      ]
     },
     "execution_count": 70,
     "metadata": {},
     "output_type": "execute_result"
    }
   ],
   "source": [
    "# View 1D array as a 2D column vector\n",
    "from numpy import newaxis # alias for None, useful for indexing arrays\n",
    "\n",
    "images[0][1][:, newaxis]"
   ]
  },
  {
   "cell_type": "code",
   "execution_count": 73,
   "id": "c473a058-8ca2-4107-98f6-1cdc868539bc",
   "metadata": {},
   "outputs": [
    {
     "data": {
      "text/plain": [
       "array([ 0,  1,  2,  3,  7,  9, 15,  4])"
      ]
     },
     "execution_count": 73,
     "metadata": {},
     "output_type": "execute_result"
    }
   ],
   "source": [
    "# .r_/ .c_: translates slice objects to concatenation along the first/second axis\n",
    "np.r_[0:4, 7, 9, 15, 4]"
   ]
  },
  {
   "cell_type": "code",
   "execution_count": 74,
   "id": "e4c161ff-3b2a-4626-b616-e8a8672ef082",
   "metadata": {},
   "outputs": [
    {
     "data": {
      "text/plain": [
       "array([[ 6.,  0.],\n",
       "       [ 4.,  0.],\n",
       "       [11.,  0.],\n",
       "       [ 9.,  0.]])"
      ]
     },
     "execution_count": 74,
     "metadata": {},
     "output_type": "execute_result"
    }
   ],
   "source": [
    "np.c_[np.array([6, 4, 11, 9]), np.zeros(4)]"
   ]
  },
  {
   "cell_type": "markdown",
   "id": "519f5c9b-4cd5-484d-9c3d-db2636f983c7",
   "metadata": {},
   "source": [
    "### Splitting one array into several smaller ones"
   ]
  },
  {
   "cell_type": "code",
   "execution_count": 78,
   "id": "2888ce6b-484a-49d6-b13d-804f48e8f929",
   "metadata": {},
   "outputs": [
    {
     "data": {
      "text/plain": [
       "[array([[0., 0.],\n",
       "        [0., 0.],\n",
       "        [0., 3.],\n",
       "        [0., 4.],\n",
       "        [0., 5.],\n",
       "        [0., 4.],\n",
       "        [0., 2.],\n",
       "        [0., 0.]]),\n",
       " array([[ 5., 13.],\n",
       "        [13., 15.],\n",
       "        [15.,  2.],\n",
       "        [12.,  0.],\n",
       "        [ 8.,  0.],\n",
       "        [11.,  0.],\n",
       "        [14.,  5.],\n",
       "        [ 6., 13.]]),\n",
       " array([[ 9.,  1.],\n",
       "        [10., 15.],\n",
       "        [ 0., 11.],\n",
       "        [ 0.,  8.],\n",
       "        [ 0.,  9.],\n",
       "        [ 1., 12.],\n",
       "        [10., 12.],\n",
       "        [10.,  0.]]),\n",
       " array([[0., 0.],\n",
       "        [5., 0.],\n",
       "        [8., 0.],\n",
       "        [8., 0.],\n",
       "        [8., 0.],\n",
       "        [7., 0.],\n",
       "        [0., 0.],\n",
       "        [0., 0.]])]"
      ]
     },
     "execution_count": 78,
     "metadata": {},
     "output_type": "execute_result"
    }
   ],
   "source": [
    "# np.hsplit(): split an array along its horizontal axis\n",
    "np.hsplit(images[0], 4)"
   ]
  },
  {
   "cell_type": "markdown",
   "id": "910f7c6e-e41f-4d35-874e-de1b6860d5b1",
   "metadata": {},
   "source": [
    "## Copies and views"
   ]
  },
  {
   "cell_type": "markdown",
   "id": "eeb85343-2c96-4593-800e-68e7b6defc6d",
   "metadata": {},
   "source": [
    "### View or shallow copy"
   ]
  },
  {
   "cell_type": "code",
   "execution_count": 82,
   "id": "520b124a-d531-488f-bbbc-be8f87117e2f",
   "metadata": {},
   "outputs": [
    {
     "name": "stdout",
     "output_type": "stream",
     "text": [
      "False\n",
      "(4, 16) (8, 8)\n"
     ]
    }
   ],
   "source": [
    "# .view(): creates a new array object that looks at the smae data\n",
    "## original array doesn't change when there's modification on the view\n",
    "img0 = images[0].view()\n",
    "\n",
    "print(img0 is images[0])\n",
    "\n",
    "img0 = img0.reshape((4, 16))\n",
    "print(img0.shape, images[0].shape)"
   ]
  },
  {
   "cell_type": "markdown",
   "id": "e306b29d-b65b-4a5c-b425-583a446465d6",
   "metadata": {},
   "source": [
    "## Advanced indexing and index tricks"
   ]
  },
  {
   "cell_type": "markdown",
   "id": "b2503f37-bdad-4410-80d2-de369e88264b",
   "metadata": {},
   "source": [
    "### Indexing with arrays of indices"
   ]
  },
  {
   "cell_type": "code",
   "execution_count": 86,
   "id": "f0d85b54-32d4-4156-b090-ea0bdd6eefce",
   "metadata": {},
   "outputs": [
    {
     "data": {
      "text/plain": [
       "array([[[ 0.,  3., 15.,  2.,  0., 11.,  8.,  0.],\n",
       "        [ 0.,  0.,  0., 11., 16.,  9.,  0.,  0.]],\n",
       "\n",
       "       [[ 0.,  7., 15., 16., 16.,  2.,  0.,  0.],\n",
       "        [ 0.,  0.,  1.,  6., 15., 11.,  0.,  0.]]])"
      ]
     },
     "execution_count": 86,
     "metadata": {},
     "output_type": "execute_result"
    }
   ],
   "source": [
    "# Give indexes for more than one dimension\n",
    "i = np.array([[0, 1],\n",
    "              [1, 2]])\n",
    "j = np.array([[2, 1],\n",
    "              [3, 3]])\n",
    "\n",
    "## [[images[0, 2], images[1, 1]], \n",
    "##  [images[1, 3], images[2, 3]]]\n",
    "images[i, j]"
   ]
  },
  {
   "cell_type": "code",
   "execution_count": 88,
   "id": "c87c64de-9486-46a1-a04c-097f8cb39ea0",
   "metadata": {},
   "outputs": [
    {
     "name": "stdout",
     "output_type": "stream",
     "text": [
      "ind: [0 4 2 1 1 1 2 0]\n"
     ]
    },
    {
     "data": {
      "text/plain": [
       "array([ 0.,  5., 15., 15., 10., 15.,  8.,  0.])"
      ]
     },
     "execution_count": 88,
     "metadata": {},
     "output_type": "execute_result"
    }
   ],
   "source": [
    "# .argmax(): returns the indices of the maximum values along an axis\n",
    "\n",
    "# index of the maxima for each series\n",
    "ind = images[0].argmax(axis=0)\n",
    "print('ind:', ind)\n",
    "\n",
    "# values corresponding to the maxima\n",
    "images[0][ind, range(images[0].shape[1])]"
   ]
  },
  {
   "cell_type": "markdown",
   "id": "95bf6b6e-b968-4c4e-94c8-c0bc34bcb28f",
   "metadata": {},
   "source": [
    "### Inidexing with boolean arrays"
   ]
  },
  {
   "cell_type": "code",
   "execution_count": 151,
   "id": "2b31693d-9dcb-47fc-ab2d-4bb51b90f595",
   "metadata": {},
   "outputs": [
    {
     "data": {
      "image/png": "[encoded data removed]",
      "text/plain": [
       "<Figure size 640x480 with 1 Axes>"
      ]
     },
     "metadata": {},
     "output_type": "display_data"
    }
   ],
   "source": [
    "# Mandelbrot set example\n",
    "## 2D set defined in the complex plane as the complex numbers c for which the function fc(z)=z^2+c does not diverge to infinity when iterated starting at z=0\n",
    "def mandelbrot(h, w, maxit=20, r=2):\n",
    "    x = np.linspace(-2.5, 1.5, 4*h+1)\n",
    "    y = np.linspace(-1.5, 1.5, 3*w+1)\n",
    "    A, B = np.meshgrid(x, y)\n",
    "    C = A + B*1j\n",
    "    z = np.zeros_like(C)\n",
    "    divtime = maxit + np.zeros(z.shape, dtype=int)\n",
    "\n",
    "    for i in range(maxit):\n",
    "        z = z**2 + C\n",
    "        diverge = abs(z) > r\n",
    "        div_now = diverge & (divtime == maxit)\n",
    "        divtime[div_now] = i\n",
    "        z[diverge] = r\n",
    "\n",
    "    return divtime\n",
    "\n",
    "plt.clf()\n",
    "plt.imshow(mandelbrot(400, 400))\n",
    "plt.show()"
   ]
  },
  {
   "cell_type": "raw",
   "id": "201b2ebd-31e6-4611-93c1-fa72019fd9f8",
   "metadata": {},
   "source": [
    "# np.meshgrid()\n",
    "    Return a tuple of coordinate matrices from coordinate vectors\n",
    "\n",
    "    Make N-D coordinate arrays\n",
    "\n",
    "    <Parameters>\n",
    "\n",
    "    x1, x2, ..., xn: array_like\n",
    "        1-D arrays representing the coordinates of a grid\n",
    "\n",
    "    indexing: {‘xy’, ‘ij’}, optional\n",
    "        - ‘xy’: default, Cartesian\n",
    "        - 'ij': matrix \n",
    "\n",
    "    <Returns>\n",
    "\n",
    "    X1, X2,…, XN: tuple of ndarrays\n",
    "        - indexing=’xy’: (N2, N1, N3,..., Nn) shaped arrays\n",
    "        - indexing=’ij’: (N1, N2, N3,..., Nn) shaped arrays \n",
    "         the elements of xi repeated to fill the matrix"
   ]
  },
  {
   "cell_type": "markdown",
   "id": "a1f03b9f-0202-4453-8c08-87d5f904d4e7",
   "metadata": {},
   "source": [
    "### The ix_() function"
   ]
  },
  {
   "cell_type": "code",
   "execution_count": 218,
   "id": "f96bc113-e606-4742-b08c-dba01f3f3258",
   "metadata": {},
   "outputs": [
    {
     "data": {
      "text/plain": [
       "array([[[ 0.]],\n",
       "\n",
       "       [[ 0.]],\n",
       "\n",
       "       [[ 5.]],\n",
       "\n",
       "       [[13.]],\n",
       "\n",
       "       [[ 9.]],\n",
       "\n",
       "       [[ 1.]],\n",
       "\n",
       "       [[ 0.]],\n",
       "\n",
       "       [[ 0.]]])"
      ]
     },
     "execution_count": 218,
     "metadata": {},
     "output_type": "execute_result"
    }
   ],
   "source": [
    "# Construct an open mesh from multiple sequences\n",
    "img0 = list(map(np.ndarray.flatten, np.split(images[0], 8)))\n",
    "x0, x1, x2 = np.ix_(img0[0], img0[1], img0[2])\n",
    "x0"
   ]
  },
  {
   "cell_type": "code",
   "execution_count": 228,
   "id": "76c1d807-4671-46ea-902c-4d1c4cebc2ca",
   "metadata": {},
   "outputs": [
    {
     "data": {
      "text/plain": [
       "array([[[  0.,  -9., -45.,  -6.,   0., -33., -24.,   0.],\n",
       "        [  0.,  -9., -45.,  -6.,   0., -33., -24.,   0.],\n",
       "        [ 13.,   4., -32.,   7.,  13., -20., -11.,  13.],\n",
       "        [ 15.,   6., -30.,   9.,  15., -18.,  -9.,  15.],\n",
       "        [ 10.,   1., -35.,   4.,  10., -23., -14.,  10.],\n",
       "        [ 15.,   6., -30.,   9.,  15., -18.,  -9.,  15.],\n",
       "        [  5.,  -4., -40.,  -1.,   5., -28., -19.,   5.],\n",
       "        [  0.,  -9., -45.,  -6.,   0., -33., -24.,   0.]],\n",
       "\n",
       "       [[  0.,  -9., -45.,  -6.,   0., -33., -24.,   0.],\n",
       "        [  0.,  -9., -45.,  -6.,   0., -33., -24.,   0.],\n",
       "        [ 13.,   4., -32.,   7.,  13., -20., -11.,  13.],\n",
       "        [ 15.,   6., -30.,   9.,  15., -18.,  -9.,  15.],\n",
       "        [ 10.,   1., -35.,   4.,  10., -23., -14.,  10.],\n",
       "        [ 15.,   6., -30.,   9.,  15., -18.,  -9.,  15.],\n",
       "        [  5.,  -4., -40.,  -1.,   5., -28., -19.,   5.],\n",
       "        [  0.,  -9., -45.,  -6.,   0., -33., -24.,   0.]],\n",
       "\n",
       "       [[  5.,  -4., -40.,  -1.,   5., -28., -19.,   5.],\n",
       "        [  5.,  -4., -40.,  -1.,   5., -28., -19.,   5.],\n",
       "        [ 18.,   9., -27.,  12.,  18., -15.,  -6.,  18.],\n",
       "        [ 20.,  11., -25.,  14.,  20., -13.,  -4.,  20.],\n",
       "        [ 15.,   6., -30.,   9.,  15., -18.,  -9.,  15.],\n",
       "        [ 20.,  11., -25.,  14.,  20., -13.,  -4.,  20.],\n",
       "        [ 10.,   1., -35.,   4.,  10., -23., -14.,  10.],\n",
       "        [  5.,  -4., -40.,  -1.,   5., -28., -19.,   5.]],\n",
       "\n",
       "       [[ 13.,   4., -32.,   7.,  13., -20., -11.,  13.],\n",
       "        [ 13.,   4., -32.,   7.,  13., -20., -11.,  13.],\n",
       "        [ 26.,  17., -19.,  20.,  26.,  -7.,   2.,  26.],\n",
       "        [ 28.,  19., -17.,  22.,  28.,  -5.,   4.,  28.],\n",
       "        [ 23.,  14., -22.,  17.,  23., -10.,  -1.,  23.],\n",
       "        [ 28.,  19., -17.,  22.,  28.,  -5.,   4.,  28.],\n",
       "        [ 18.,   9., -27.,  12.,  18., -15.,  -6.,  18.],\n",
       "        [ 13.,   4., -32.,   7.,  13., -20., -11.,  13.]],\n",
       "\n",
       "       [[  9.,   0., -36.,   3.,   9., -24., -15.,   9.],\n",
       "        [  9.,   0., -36.,   3.,   9., -24., -15.,   9.],\n",
       "        [ 22.,  13., -23.,  16.,  22., -11.,  -2.,  22.],\n",
       "        [ 24.,  15., -21.,  18.,  24.,  -9.,   0.,  24.],\n",
       "        [ 19.,  10., -26.,  13.,  19., -14.,  -5.,  19.],\n",
       "        [ 24.,  15., -21.,  18.,  24.,  -9.,   0.,  24.],\n",
       "        [ 14.,   5., -31.,   8.,  14., -19., -10.,  14.],\n",
       "        [  9.,   0., -36.,   3.,   9., -24., -15.,   9.]],\n",
       "\n",
       "       [[  1.,  -8., -44.,  -5.,   1., -32., -23.,   1.],\n",
       "        [  1.,  -8., -44.,  -5.,   1., -32., -23.,   1.],\n",
       "        [ 14.,   5., -31.,   8.,  14., -19., -10.,  14.],\n",
       "        [ 16.,   7., -29.,  10.,  16., -17.,  -8.,  16.],\n",
       "        [ 11.,   2., -34.,   5.,  11., -22., -13.,  11.],\n",
       "        [ 16.,   7., -29.,  10.,  16., -17.,  -8.,  16.],\n",
       "        [  6.,  -3., -39.,   0.,   6., -27., -18.,   6.],\n",
       "        [  1.,  -8., -44.,  -5.,   1., -32., -23.,   1.]],\n",
       "\n",
       "       [[  0.,  -9., -45.,  -6.,   0., -33., -24.,   0.],\n",
       "        [  0.,  -9., -45.,  -6.,   0., -33., -24.,   0.],\n",
       "        [ 13.,   4., -32.,   7.,  13., -20., -11.,  13.],\n",
       "        [ 15.,   6., -30.,   9.,  15., -18.,  -9.,  15.],\n",
       "        [ 10.,   1., -35.,   4.,  10., -23., -14.,  10.],\n",
       "        [ 15.,   6., -30.,   9.,  15., -18.,  -9.,  15.],\n",
       "        [  5.,  -4., -40.,  -1.,   5., -28., -19.,   5.],\n",
       "        [  0.,  -9., -45.,  -6.,   0., -33., -24.,   0.]],\n",
       "\n",
       "       [[  0.,  -9., -45.,  -6.,   0., -33., -24.,   0.],\n",
       "        [  0.,  -9., -45.,  -6.,   0., -33., -24.,   0.],\n",
       "        [ 13.,   4., -32.,   7.,  13., -20., -11.,  13.],\n",
       "        [ 15.,   6., -30.,   9.,  15., -18.,  -9.,  15.],\n",
       "        [ 10.,   1., -35.,   4.,  10., -23., -14.,  10.],\n",
       "        [ 15.,   6., -30.,   9.,  15., -18.,  -9.,  15.],\n",
       "        [  5.,  -4., -40.,  -1.,   5., -28., -19.,   5.],\n",
       "        [  0.,  -9., -45.,  -6.,   0., -33., -24.,   0.]]])"
      ]
     },
     "execution_count": 228,
     "metadata": {},
     "output_type": "execute_result"
    }
   ],
   "source": [
    "# Use to combine different vectors so as to obtain the result for each n-tuple\n",
    "result = x0 + x1 - 3 * x2\n",
    "result"
   ]
  },
  {
   "cell_type": "code",
   "execution_count": 230,
   "id": "323fd795-fbb5-4753-b8ee-ad4e4b7b5748",
   "metadata": {},
   "outputs": [
    {
     "data": {
      "text/plain": [
       "3.0"
      ]
     },
     "execution_count": 230,
     "metadata": {},
     "output_type": "execute_result"
    }
   ],
   "source": [
    "result[4, 1, 3]"
   ]
  },
  {
   "cell_type": "code",
   "execution_count": 236,
   "id": "b29feb68-5043-496b-a72a-81dbd31b6413",
   "metadata": {},
   "outputs": [
    {
     "data": {
      "text/plain": [
       "3.0"
      ]
     },
     "execution_count": 236,
     "metadata": {},
     "output_type": "execute_result"
    }
   ],
   "source": [
    "img0[0][4] + img0[1][1] - 3 * img0[2][3]"
   ]
  },
  {
   "cell_type": "code",
   "execution_count": 271,
   "id": "d17985e0-866b-4f00-8458-aabb99ac388b",
   "metadata": {},
   "outputs": [
    {
     "data": {
      "text/plain": [
       "(1797, 8, 8)"
      ]
     },
     "execution_count": 271,
     "metadata": {},
     "output_type": "execute_result"
    }
   ],
   "source": [
    "images.shape"
   ]
  },
  {
   "cell_type": "markdown",
   "id": "d169e0d2-19cd-4e93-ba18-175ae7c9837b",
   "metadata": {},
   "source": [
    "## Simple Classification of Digits data"
   ]
  },
  {
   "cell_type": "code",
   "execution_count": 369,
   "id": "e3f679cb-85f3-4b4b-b714-a934ce03d693",
   "metadata": {},
   "outputs": [
    {
     "data": {
      "text/plain": [
       "array([[ 0.,  0.,  5., 13.,  9.,  1.,  0.,  0.,  0.,  0., 13., 15., 10.,\n",
       "        15.,  5.,  0.,  0.,  3., 15.,  2.,  0., 11.,  8.,  0.,  0.,  4.,\n",
       "        12.,  0.,  0.,  8.,  8.,  0.,  0.,  5.,  8.,  0.,  0.,  9.,  8.,\n",
       "         0.,  0.,  4., 11.,  0.,  1., 12.,  7.,  0.,  0.,  2., 14.,  5.,\n",
       "        10., 12.,  0.,  0.,  0.,  0.,  6., 13., 10.,  0.,  0.,  0.],\n",
       "       [ 0.,  0.,  0., 12., 13.,  5.,  0.,  0.,  0.,  0.,  0., 11., 16.,\n",
       "         9.,  0.,  0.,  0.,  0.,  3., 15., 16.,  6.,  0.,  0.,  0.,  7.,\n",
       "        15., 16., 16.,  2.,  0.,  0.,  0.,  0.,  1., 16., 16.,  3.,  0.,\n",
       "         0.,  0.,  0.,  1., 16., 16.,  6.,  0.,  0.,  0.,  0.,  1., 16.,\n",
       "        16.,  6.,  0.,  0.,  0.,  0.,  0., 11., 16., 10.,  0.,  0.],\n",
       "       [ 0.,  0.,  0.,  4., 15., 12.,  0.,  0.,  0.,  0.,  3., 16., 15.,\n",
       "        14.,  0.,  0.,  0.,  0.,  8., 13.,  8., 16.,  0.,  0.,  0.,  0.,\n",
       "         1.,  6., 15., 11.,  0.,  0.,  0.,  1.,  8., 13., 15.,  1.,  0.,\n",
       "         0.,  0.,  9., 16., 16.,  5.,  0.,  0.,  0.,  0.,  3., 13., 16.,\n",
       "        16., 11.,  5.,  0.,  0.,  0.,  0.,  3., 11., 16.,  9.,  0.]])"
      ]
     },
     "execution_count": 369,
     "metadata": {},
     "output_type": "execute_result"
    }
   ],
   "source": [
    "# Flatten the images data\n",
    "n = images.shape[0]\n",
    "data = images.reshape((n, -1))\n",
    "data[:3]"
   ]
  },
  {
   "cell_type": "code",
   "execution_count": 306,
   "id": "b4f0c22c-3021-47e9-9add-904669cc532b",
   "metadata": {},
   "outputs": [
    {
     "data": {
      "text/plain": [
       "((1257, 64), (540, 64), (1257,), (540,))"
      ]
     },
     "execution_count": 306,
     "metadata": {},
     "output_type": "execute_result"
    }
   ],
   "source": [
    "# Split data into train set and test set\n",
    "from sklearn.model_selection import train_test_split\n",
    "\n",
    "X_train, X_test, y_train, y_test = train_test_split(data, target, test_size=0.3, random_state=42)\n",
    "X_train.shape, X_test.shape, y_train.shape, y_test.shape"
   ]
  },
  {
   "cell_type": "code",
   "execution_count": 312,
   "id": "3e0ff961-f975-4ee5-a8ec-9f26f36f9385",
   "metadata": {},
   "outputs": [
    {
     "data": {
      "text/plain": [
       "array([6, 9, 3, 7, 2, 1, 5, 2, 5, 2, 1, 9, 4, 0, 4, 2, 3, 7, 8, 8, 4, 3,\n",
       "       9, 7, 5, 6, 3, 5, 6, 3, 4, 9, 1, 4, 4, 6, 9, 4, 7, 6, 6, 9, 1, 3,\n",
       "       6, 1, 3, 0, 6, 5, 5, 1, 9, 5, 6, 0, 9, 0, 0, 1, 0, 4, 5, 2, 4, 5,\n",
       "       7, 0, 7, 5, 9, 5, 5, 4, 7, 0, 4, 5, 5, 9, 9, 0, 2, 3, 8, 0, 6, 4,\n",
       "       4, 9, 1, 2, 8, 3, 5, 2, 9, 0, 4, 4, 4, 3, 5, 3, 1, 3, 5, 9, 4, 2,\n",
       "       7, 7, 4, 4, 1, 9, 2, 7, 9, 7, 2, 6, 9, 4, 0, 7, 2, 7, 5, 8, 7, 5,\n",
       "       7, 9, 0, 6, 6, 4, 2, 8, 0, 9, 4, 6, 9, 9, 6, 9, 0, 3, 5, 6, 6, 0,\n",
       "       6, 4, 3, 9, 3, 7, 7, 2, 9, 0, 4, 5, 3, 6, 5, 9, 9, 8, 4, 2, 1, 3,\n",
       "       7, 7, 2, 2, 3, 9, 8, 0, 3, 2, 2, 5, 6, 9, 9, 4, 1, 5, 4, 2, 3, 6,\n",
       "       4, 8, 5, 9, 5, 7, 8, 9, 4, 8, 1, 5, 4, 4, 9, 6, 1, 8, 6, 0, 4, 5,\n",
       "       2, 7, 4, 6, 4, 5, 6, 0, 3, 2, 3, 6, 7, 1, 5, 1, 4, 7, 6, 8, 8, 5,\n",
       "       5, 1, 6, 2, 8, 8, 9, 8, 7, 6, 2, 2, 2, 3, 4, 8, 8, 3, 6, 0, 9, 7,\n",
       "       7, 0, 1, 0, 4, 5, 1, 5, 3, 6, 0, 4, 1, 0, 0, 3, 6, 5, 9, 7, 3, 5,\n",
       "       5, 9, 9, 8, 5, 3, 3, 2, 0, 5, 8, 3, 4, 0, 2, 4, 6, 4, 3, 4, 5, 0,\n",
       "       5, 2, 1, 3, 1, 4, 1, 1, 7, 0, 1, 5, 2, 1, 2, 8, 7, 0, 6, 4, 8, 8,\n",
       "       5, 1, 8, 4, 5, 8, 7, 9, 8, 6, 0, 6, 2, 0, 7, 9, 8, 9, 5, 2, 7, 7,\n",
       "       1, 8, 7, 4, 3, 8, 3, 5, 6, 0, 0, 3, 0, 5, 0, 0, 4, 1, 2, 8, 4, 5,\n",
       "       9, 6, 3, 1, 8, 8, 4, 2, 3, 8, 9, 8, 8, 5, 0, 6, 3, 3, 7, 1, 6, 4,\n",
       "       1, 2, 1, 1, 6, 4, 7, 4, 8, 3, 4, 0, 5, 1, 9, 4, 5, 7, 6, 3, 7, 0,\n",
       "       5, 9, 7, 5, 9, 7, 4, 2, 1, 9, 0, 7, 5, 8, 3, 6, 3, 9, 6, 9, 5, 0,\n",
       "       1, 5, 5, 8, 3, 3, 6, 2, 6, 5, 5, 2, 0, 8, 7, 3, 7, 0, 2, 2, 3, 5,\n",
       "       8, 7, 3, 6, 5, 9, 9, 2, 5, 6, 3, 0, 7, 1, 1, 9, 6, 1, 1, 0, 0, 2,\n",
       "       9, 3, 9, 9, 3, 7, 7, 1, 3, 5, 4, 6, 1, 2, 1, 1, 8, 7, 6, 9, 2, 0,\n",
       "       4, 4, 8, 8, 7, 1, 3, 1, 7, 1, 3, 5, 1, 7, 0, 0, 2, 2, 6, 9, 4, 1,\n",
       "       9, 0, 6, 7, 7, 9, 5, 4, 7, 0, 7, 6])"
      ]
     },
     "execution_count": 312,
     "metadata": {},
     "output_type": "execute_result"
    }
   ],
   "source": [
    "# Classifier\n",
    "from sklearn.svm import SVC\n",
    "\n",
    "svc = SVC()\n",
    "svc.fit(X_train, y_train)\n",
    "y_pred_svc = svc.predict(X_test)\n",
    "y_pred_svc"
   ]
  },
  {
   "cell_type": "code",
   "execution_count": 318,
   "id": "c2e7aee8-2c61-4e88-b209-1c395f045b60",
   "metadata": {},
   "outputs": [
    {
     "name": "stdout",
     "output_type": "stream",
     "text": [
      "              precision    recall  f1-score   support\n",
      "\n",
      "           0       1.00      1.00      1.00        53\n",
      "           1       1.00      1.00      1.00        50\n",
      "           2       1.00      1.00      1.00        47\n",
      "           3       0.98      0.98      0.98        54\n",
      "           4       1.00      1.00      1.00        60\n",
      "           5       1.00      0.98      0.99        66\n",
      "           6       0.98      1.00      0.99        53\n",
      "           7       0.98      0.98      0.98        55\n",
      "           8       0.95      0.98      0.97        43\n",
      "           9       0.97      0.95      0.96        59\n",
      "\n",
      "    accuracy                           0.99       540\n",
      "   macro avg       0.99      0.99      0.99       540\n",
      "weighted avg       0.99      0.99      0.99       540\n",
      "\n"
     ]
    }
   ],
   "source": [
    "# Classification report\n",
    "from sklearn.metrics import classification_report\n",
    "\n",
    "print(classification_report(y_test, y_pred_svc))"
   ]
  },
  {
   "cell_type": "code",
   "execution_count": 366,
   "id": "4e70cca9-06b5-4c73-b496-6474261b6322",
   "metadata": {},
   "outputs": [
    {
     "data": {
      "image/png": "[encoded data removed]",
      "text/plain": [
       "<Figure size 640x480 with 2 Axes>"
      ]
     },
     "metadata": {},
     "output_type": "display_data"
    }
   ],
   "source": [
    "# Confusion matrix\n",
    "from sklearn.metrics import ConfusionMatrixDisplay\n",
    "\n",
    "ConfusionMatrixDisplay.from_predictions(y_test, y_pred_svc, normalize='true', cmap=plt.cm.Greens)\n",
    "plt.show()"
   ]
  },
  {
   "cell_type": "code",
   "execution_count": null,
   "id": "923745a6-11bf-4bf9-99d6-33a25539f9fa",
   "metadata": {},
   "outputs": [],
   "source": []
  }
 ],
 "metadata": {
  "kernelspec": {
   "display_name": "Python [conda env:base] *",
   "language": "python",
   "name": "conda-base-py"
  },
  "language_info": {
   "codemirror_mode": {
    "name": "ipython",
    "version": 3
   },
   "file_extension": ".py",
   "mimetype": "text/x-python",
   "name": "python",
   "nbconvert_exporter": "python",
   "pygments_lexer": "ipython3",
   "version": "3.12.7"
  }
 },
 "nbformat": 4,
 "nbformat_minor": 5
}
